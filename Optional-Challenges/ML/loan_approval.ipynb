{
 "cells": [
  {
   "cell_type": "markdown",
   "metadata": {},
   "source": [
    "# ML Challenge \n",
    "\n",
    "<img src=\"https://imageio.forbes.com/specials-images/imageserve/5ecd179f798e4c00060d2c7c/0x0.jpg?format=jpg&height=600&width=1200&fit=bounds\" width=\"500\" height=\"300\">\n",
    "\n",
    "In the bustling city of Financia, the Central Lending Institution (CLI) is the largest provider of loans to individuals and businesses. With a mission to support economic growth and financial stability, CLI processes thousands of loan applications every month. However, the traditional manual review process is time-consuming and prone to human error, leading to delays and inconsistencies in loan approvals.\n",
    "To address these challenges, CLI has decided to leverage the power of machine learning to streamline their loan approval process. They have compiled a comprehensive dataset containing historical loan application records, including various factors such as credit scores, income levels, employment status, loan terms(measured in years), loan amounts, asset values, and the final loan status (approved or denied).\n",
    "\n",
    "\n",
    "**Your task is to develop a predictive model that can accurately determine the likelihood of loan approval based on the provided features. By doing so, you will help CLI make faster, more accurate, and fairer lending decisions, ultimately contributing to the financial well-being of the community.**\n",
    "\n",
    "It is recommended that you follow the typical machine learning workflow, though you are not required to strictly follow each steps: \n",
    "1. Data Collection: Gather the data you need for your model. (Already done for you)\n",
    "\n",
    "2. Data Preprocessing: Clean and prepare the data for analysis. (Already done for you)\n",
    "\n",
    "3. Exploratory Data Analysis (EDA): Understand the data and its patterns. (Partially done for you)\n",
    "\n",
    "4. Feature Engineering: Create new features or modify existing ones to improve model performance. (Partially done for you)\n",
    "\n",
    "5. Model Selection: Choose the appropriate machine learning algorithm.\n",
    "\n",
    "6. Model Training: Train the model using the training dataset.\n",
    "\n",
    "7. Model Evaluation: Evaluate the model's performance using a validation dataset.\n",
    "\n",
    "8. Model Optimization: Optimize the model's parameters to improve performance.\n",
    "\n",
    "9. Model Testing: Test the final model on a separate test dataset.\n",
    "\n",
    "**Please include ALL your work and thought process in this notebook**"
   ]
  },
  {
   "cell_type": "code",
   "execution_count": 1,
   "metadata": {},
   "outputs": [],
   "source": [
    "# You may include any package you deem fit. We sugggest looking into Scikit-learn\n",
    "import pandas as pd"
   ]
  },
  {
   "cell_type": "markdown",
   "metadata": {},
   "source": [
    "## Dataset\n"
   ]
  },
  {
   "cell_type": "code",
   "execution_count": 2,
   "metadata": {},
   "outputs": [],
   "source": [
    "# DO NOT MODIFY\n",
    "loan_data = pd.read_csv(\"../../data/loan_approval.csv\")\n"
   ]
  },
  {
   "cell_type": "markdown",
   "metadata": {},
   "source": [
    "## EDA\n",
    "Uncomment to see desired output. Add more analysis if you like"
   ]
  },
  {
   "cell_type": "code",
   "execution_count": 6,
   "metadata": {},
   "outputs": [
    {
     "name": "stdout",
     "output_type": "stream",
     "text": [
      "Index(['loan_id', 'no_of_dependents', 'education', 'self_employed',\n",
      "       'income_annum', 'loan_amount', 'loan_term', 'cibil_score',\n",
      "       'residential_assets_value', 'commercial_assets_value',\n",
      "       'luxury_assets_value', 'bank_asset_value', 'loan_status'],\n",
      "      dtype='object')\n",
      "           loan_id  no_of_dependents  income_annum   loan_amount    loan_term  \\\n",
      "count  4269.000000       4269.000000  4.269000e+03  4.269000e+03  4269.000000   \n",
      "mean   2135.000000          2.498712  5.059124e+06  1.513345e+07    10.900445   \n",
      "std    1232.498479          1.695910  2.806840e+06  9.043363e+06     5.709187   \n",
      "min       1.000000          0.000000  2.000000e+05  3.000000e+05     2.000000   \n",
      "25%    1068.000000          1.000000  2.700000e+06  7.700000e+06     6.000000   \n",
      "50%    2135.000000          3.000000  5.100000e+06  1.450000e+07    10.000000   \n",
      "75%    3202.000000          4.000000  7.500000e+06  2.150000e+07    16.000000   \n",
      "max    4269.000000          5.000000  9.900000e+06  3.950000e+07    20.000000   \n",
      "\n",
      "       cibil_score  residential_assets_value  commercial_assets_value  \\\n",
      "count  4269.000000              4.269000e+03             4.269000e+03   \n",
      "mean    599.936051              7.472617e+06             4.973155e+06   \n",
      "std     172.430401              6.503637e+06             4.388966e+06   \n",
      "min     300.000000             -1.000000e+05             0.000000e+00   \n",
      "25%     453.000000              2.200000e+06             1.300000e+06   \n",
      "50%     600.000000              5.600000e+06             3.700000e+06   \n",
      "75%     748.000000              1.130000e+07             7.600000e+06   \n",
      "max     900.000000              2.910000e+07             1.940000e+07   \n",
      "\n",
      "       luxury_assets_value  bank_asset_value  \n",
      "count         4.269000e+03      4.269000e+03  \n",
      "mean          1.512631e+07      4.976692e+06  \n",
      "std           9.103754e+06      3.250185e+06  \n",
      "min           3.000000e+05      0.000000e+00  \n",
      "25%           7.500000e+06      2.300000e+06  \n",
      "50%           1.460000e+07      4.600000e+06  \n",
      "75%           2.170000e+07      7.100000e+06  \n",
      "max           3.920000e+07      1.470000e+07  \n"
     ]
    }
   ],
   "source": [
    "\n",
    "import matplotlib.pyplot as plt\n",
    "\n",
    "# ------ Display basic information ------\n",
    "print(loan_data.columns)\n",
    "print(loan_data.describe())\n",
    "\n",
    "# ------ Check for missing values ------\n",
    "# print(loan_data.isnull().sum())\n",
    "\n",
    "# ------ Visualize the distribution of loan status ------\n",
    "# loan_status_counts = loan_data['loan_status'].value_counts()\n",
    "# plt.bar(loan_status_counts.index, loan_status_counts.values)\n",
    "# plt.title('Distribution of Loan Status')\n",
    "# plt.xlabel('Loan Status')\n",
    "# plt.ylabel('Count')\n",
    "\n",
    "# ------ Visualize the distribution of numerical features ------ \n",
    "# loan_data.hist(bins=30, figsize=(20, 15))\n",
    "\n",
    "# ------ Correlation matrix ------\n",
    "# corr_matrix = loan_data.corr()\n",
    "# fig, ax = plt.subplots(figsize=(10, 8))\n",
    "# cax = ax.matshow(corr_matrix, cmap='coolwarm')\n",
    "# fig.colorbar(cax)\n",
    "# plt.xticks(range(len(corr_matrix.columns)), corr_matrix.columns, rotation=90)\n",
    "# plt.yticks(range(len(corr_matrix.columns)), corr_matrix.columns)\n",
    "\n",
    "# ----- MORE (Encouraged but not required) ------\n",
    "# TODO "
   ]
  },
  {
   "cell_type": "markdown",
   "metadata": {},
   "source": [
    "## Feature Engineering\n",
    "\n",
    "You may want to convert categorical variables to numerical. For example, education takes on the value Graduate and Not Graduate. But we want it to be 0 or 1 for machine learning algorithms to use."
   ]
  },
  {
   "cell_type": "code",
   "execution_count": 7,
   "metadata": {},
   "outputs": [],
   "source": [
    "loan_data['education'] = loan_data['education'].map({'Graduate': 1, 'Not Graduate': 0})\n",
    "# Hint: Other categorical variables are self_employed and loan_status\n",
    "# TODO"
   ]
  },
  {
   "cell_type": "markdown",
   "metadata": {},
   "source": [
    "## Model Selection\n",
    "\n",
    "You are free to use any classification machine learning models you like: Logistic Regression, Decision Trees/Random Forests, Support Vector Machines, KNN ... "
   ]
  },
  {
   "cell_type": "code",
   "execution_count": 12,
   "metadata": {},
   "outputs": [],
   "source": [
    "# TODO"
   ]
  },
  {
   "cell_type": "markdown",
   "metadata": {},
   "source": [
    "## Model Training and Evaluation"
   ]
  },
  {
   "cell_type": "code",
   "execution_count": null,
   "metadata": {},
   "outputs": [],
   "source": []
  },
  {
   "cell_type": "markdown",
   "metadata": {},
   "source": [
    "## Model Optimization and Testing"
   ]
  },
  {
   "cell_type": "code",
   "execution_count": null,
   "metadata": {},
   "outputs": [],
   "source": []
  }
 ],
 "metadata": {
  "kernelspec": {
   "display_name": "Python 3 (ipykernel)",
   "language": "python",
   "name": "python3"
  },
  "language_info": {
   "codemirror_mode": {
    "name": "ipython",
    "version": 3
   },
   "file_extension": ".py",
   "mimetype": "text/x-python",
   "name": "python",
   "nbconvert_exporter": "python",
   "pygments_lexer": "ipython3",
   "version": "3.10.18"
  }
 },
 "nbformat": 4,
 "nbformat_minor": 4
}
